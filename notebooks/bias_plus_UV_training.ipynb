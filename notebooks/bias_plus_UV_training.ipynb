{
 "cells": [
  {
   "cell_type": "code",
   "execution_count": 46,
   "metadata": {},
   "outputs": [],
   "source": [
    "import sys\n",
    "import torch\n",
    "import torch.nn as nn\n",
    "from torch import optim\n",
    "import torch.nn.functional as F\n",
    "import numpy as np\n",
    "import matplotlib.pyplot as plt\n",
    "import pandas as pd\n",
    "import math"
   ]
  },
  {
   "cell_type": "code",
   "execution_count": 47,
   "metadata": {},
   "outputs": [],
   "source": [
    "\"\"\"\n",
    "Dimensions need to be checked between n_users. n_items and X before calling this\n",
    "\"\"\"\n",
    "\n",
    "class Bias_UV(nn.Module):\n",
    "  \n",
    "    def __init__(self, n_users, n_items, nan_map, rand_init=True, max_bias=3, min_bias=0, dim=8):\n",
    "        super().__init__()\n",
    "        torch.manual_seed(0)\n",
    "        self.user_bias = nn.Parameter(torch.zeros(n_users))\n",
    "        self.item_bias = nn.Parameter(torch.zeros(n_items))\n",
    "        self.nan_map = nan_map\n",
    "        self.U = nn.Parameter(torch.zeros(n_users, dim))\n",
    "        self.V = nn.Parameter(torch.zeros(n_items, dim))\n",
    "        if rand_init:\n",
    "            nn.init.uniform_(self.user_bias, min_bias, max_bias)\n",
    "            nn.init.uniform_(self.item_bias, min_bias, max_bias)\n",
    "            nn.init.uniform_(self.U)\n",
    "            nn.init.uniform_(self.V)\n",
    "    \n",
    "    def forward(self, X):\n",
    "        y_pred_bias = torch.cartesian_prod(self.user_bias, self.item_bias).sum(-1).view(len(self.user_bias), len(self.item_bias))\n",
    "        y_pred_UV = self.U @ self.V.t()\n",
    "        y_pred = y_pred_bias + y_pred_UV\n",
    "        y_pred = torch.where(self.nan_map, torch.zeros_like(y_pred), y_pred)\n",
    "        return y_pred\n",
    "        "
   ]
  },
  {
   "cell_type": "code",
   "execution_count": 48,
   "metadata": {},
   "outputs": [],
   "source": [
    "def fit_v1(interaction_matrix, model, nan_map, epochs = 50, learning_rate = 0.6, wt_decay=1e-7):\n",
    "    loss_arr = []\n",
    "    opt = optim.Adam(model.parameters(), lr=learning_rate, weight_decay=wt_decay)\n",
    "    \n",
    "    X_train = torch.where(nan_map, torch.zeros_like(interaction_matrix), interaction_matrix)\n",
    "    \n",
    "    for epoch in range(epochs):\n",
    "        y_hat = model(X_train)\n",
    "        loss = F.mse_loss(y_hat, X_train)\n",
    "        print(\"Epoch # {} --> mse_loss: {}\".format(epoch, loss.item()))\n",
    "        loss_arr.append(loss.item())\n",
    "\n",
    "        loss.backward()\n",
    "        opt.step()\n",
    "        opt.zero_grad()\n",
    "\n",
    "\n",
    "    plt.plot(loss_arr, 'r-')\n",
    "    plt.show()      \n",
    "    print('Loss before training', loss_arr[0])\n",
    "    print('Loss after training', loss_arr[-1])"
   ]
  },
  {
   "cell_type": "code",
   "execution_count": 49,
   "metadata": {},
   "outputs": [],
   "source": [
    "torch.set_default_tensor_type(torch.DoubleTensor)\n",
    "\n",
    "import dill\n",
    "\n",
    "load_path = \"file_server/processed_data/iteration1/magazine_subscription_subset_115X18241/\"\n",
    "\n",
    "# train_matrix\n",
    "train_matrix = dill.load(open(load_path+\"train_matrix.pkl\", \"rb\"))\n",
    "\n",
    "# train_users\n",
    "train_users = dill.load(open(load_path+\"train_users.pkl\", \"rb\"))\n",
    "\n",
    "# items (common for train and test)\n",
    "items = dill.load(open(load_path+\"items.pkl\", \"rb\"))\n",
    "\n",
    "# test_matrix\n",
    "test_matrix = dill.load(open(load_path+\"test_matrix.pkl\", \"rb\"))\n",
    "\n",
    "# test_users\n",
    "test_users = dill.load(open(load_path+\"test_users.pkl\", \"rb\"))"
   ]
  },
  {
   "cell_type": "code",
   "execution_count": 50,
   "metadata": {},
   "outputs": [],
   "source": [
    "# Convert train_matrix to torch tensor and calc n_users and n_items\n",
    "train_matrix = torch.from_numpy(train_matrix)\n",
    "\n",
    "# Create nan_map, get n_users and n_items\n",
    "nan_mp = torch.isnan(train_matrix)\n",
    "n_users, n_items = len(train_users), len(items)"
   ]
  },
  {
   "cell_type": "code",
   "execution_count": 51,
   "metadata": {},
   "outputs": [
    {
     "name": "stdout",
     "output_type": "stream",
     "text": [
      "Epoch # 0 --> mse_loss: 0.04886933910675878\n",
      "Epoch # 1 --> mse_loss: 0.053664038694083774\n",
      "Epoch # 2 --> mse_loss: 0.024397090116737748\n",
      "Epoch # 3 --> mse_loss: 0.021824059562493725\n",
      "Epoch # 4 --> mse_loss: 0.011176906338577743\n",
      "Epoch # 5 --> mse_loss: 0.013432903873124034\n",
      "Epoch # 6 --> mse_loss: 0.010715691674056107\n",
      "Epoch # 7 --> mse_loss: 0.009161930811875727\n",
      "Epoch # 8 --> mse_loss: 0.007572552025714524\n",
      "Epoch # 9 --> mse_loss: 0.006644678929231863\n",
      "Epoch # 10 --> mse_loss: 0.005317649373798961\n",
      "Epoch # 11 --> mse_loss: 0.00437774032866513\n",
      "Epoch # 12 --> mse_loss: 0.004231921453456633\n",
      "Epoch # 13 --> mse_loss: 0.0038658634347077682\n",
      "Epoch # 14 --> mse_loss: 0.0033650302903575026\n",
      "Epoch # 15 --> mse_loss: 0.0028541013926338846\n",
      "Epoch # 16 --> mse_loss: 0.0025653865422889397\n",
      "Epoch # 17 --> mse_loss: 0.0022323340404556825\n",
      "Epoch # 18 --> mse_loss: 0.0019125627303480846\n",
      "Epoch # 19 --> mse_loss: 0.0017394362948195104\n",
      "Epoch # 20 --> mse_loss: 0.0015500325640158902\n",
      "Epoch # 21 --> mse_loss: 0.001369618826544129\n",
      "Epoch # 22 --> mse_loss: 0.0012082967725077483\n",
      "Epoch # 23 --> mse_loss: 0.0011121820964885196\n",
      "Epoch # 24 --> mse_loss: 0.001059197248821303\n",
      "Epoch # 25 --> mse_loss: 0.0009224301310636554\n",
      "Epoch # 26 --> mse_loss: 0.0007578789067682566\n",
      "Epoch # 27 --> mse_loss: 0.0006875472193996676\n",
      "Epoch # 28 --> mse_loss: 0.0006602212919022411\n",
      "Epoch # 29 --> mse_loss: 0.0005965544384134019\n",
      "Epoch # 30 --> mse_loss: 0.0005325721097274253\n",
      "Epoch # 31 --> mse_loss: 0.0005000120510465773\n",
      "Epoch # 32 --> mse_loss: 0.0004699610055614145\n",
      "Epoch # 33 --> mse_loss: 0.000419773461054948\n",
      "Epoch # 34 --> mse_loss: 0.0003636218350796881\n",
      "Epoch # 35 --> mse_loss: 0.00033025455987514775\n",
      "Epoch # 36 --> mse_loss: 0.0003123632486400114\n",
      "Epoch # 37 --> mse_loss: 0.0002858976205668624\n",
      "Epoch # 38 --> mse_loss: 0.00025774736192529975\n",
      "Epoch # 39 --> mse_loss: 0.00024071247312834124\n",
      "Epoch # 40 --> mse_loss: 0.00022879806661527832\n",
      "Epoch # 41 --> mse_loss: 0.00021796042143928273\n",
      "Epoch # 42 --> mse_loss: 0.0002069062355444828\n",
      "Epoch # 43 --> mse_loss: 0.00019051630236138574\n",
      "Epoch # 44 --> mse_loss: 0.0001703829077226364\n",
      "Epoch # 45 --> mse_loss: 0.00015408629048379907\n",
      "Epoch # 46 --> mse_loss: 0.00013693438359674724\n",
      "Epoch # 47 --> mse_loss: 0.00012083725771763343\n",
      "Epoch # 48 --> mse_loss: 0.00011329297919604712\n",
      "Epoch # 49 --> mse_loss: 0.00010961389840228401\n"
     ]
    },
    {
     "data": {
      "image/png": "[encoded data removed]",
      "text/plain": [
       "<Figure size 432x288 with 1 Axes>"
      ]
     },
     "metadata": {
      "needs_background": "light"
     },
     "output_type": "display_data"
    },
    {
     "name": "stdout",
     "output_type": "stream",
     "text": [
      "Loss before training 0.04886933910675878\n",
      "Loss after training 0.00010961389840228401\n",
      "CPU times: user 20.5 s, sys: 30.9 s, total: 51.5 s\n",
      "Wall time: 3.31 s\n"
     ]
    }
   ],
   "source": [
    "%%time\n",
    "# create and fit the model\n",
    "model_v3 = Bias_UV(n_users=n_users, n_items=n_items, nan_map=nan_mp, dim=10)\n",
    "fit_v1(interaction_matrix=train_matrix, nan_map=nan_mp, model=model_v3)"
   ]
  },
  {
   "cell_type": "code",
   "execution_count": 52,
   "metadata": {},
   "outputs": [],
   "source": [
    "# create completed matrix\n",
    "bias_part = torch.cartesian_prod(model_v3.user_bias, model_v3.item_bias).sum(-1).view(len(model_v3.user_bias), len(model_v3.item_bias))\n",
    "uv_part = model_v3.U @ model_v3.V.t()\n",
    "completed_matrix = bias_part + uv_part\n",
    "# replace original training values using nan_mp\n",
    "completed_matrix = torch.where(nan_mp, completed_matrix, train_matrix).detach().numpy()"
   ]
  },
  {
   "cell_type": "code",
   "execution_count": 53,
   "metadata": {},
   "outputs": [],
   "source": [
    "# get index of users in train set who are present in test set\n",
    "common_user_indices = np.argwhere(np.in1d(train_users, test_users))"
   ]
  },
  {
   "cell_type": "code",
   "execution_count": 54,
   "metadata": {},
   "outputs": [],
   "source": [
    "def pointwise_mad_between_1darrays(arr1, arr2):\n",
    "    \"\"\"\n",
    "    This function returns a np.array of (index, mad_value) tuple, \n",
    "    index signifying which index at both arrays were used to compute the value.\n",
    "    If either of the arrays have NaN value at any given index, then its ignored for computation\n",
    "    \"\"\"\n",
    "    try:\n",
    "        if len(arr1) != len(arr2):\n",
    "            raise ValueError(\"Array lengths should be equal\")\n",
    "        result = list()\n",
    "        for i in range(len(arr1)):\n",
    "            if ~np.isnan(arr1[i]) and ~np.isnan(arr2[i]):\n",
    "                result.append((i, abs(float(arr1[i]) - float(arr2[i]))))\n",
    "        return np.array(result)\n",
    "    except Exception as e:\n",
    "        error_type, error_instance, traceback = sys.exc_info()\n",
    "        print(arr1, arr2)\n",
    "        print(error_type, error_instance, traceback)\n",
    "        \n",
    "\n",
    "def pointwise_accuracy_ceil_or_floor(true_arr, pred_arr):\n",
    "    \"\"\"\n",
    "    Returns a np.array of (index, accuracy_value) tuple.\n",
    "    accuracy_val = 1, when true_arr E {ceil(pred_arr), floor(pred_arr)}, 0 otherwise. \n",
    "    Missing values in either arrays are discarded for computation\n",
    "    \"\"\"\n",
    "    try:\n",
    "        if len(true_arr) != len(pred_arr):\n",
    "            raise ValueError(\"Array lengths should be equal\")\n",
    "        result = list()\n",
    "        for i in range(len(true_arr)):\n",
    "            if ~np.isnan(true_arr[i]) and ~np.isnan(pred_arr[i]):\n",
    "                if int(true_arr[i]) in [math.floor(float(pred_arr[i])), math.ceil(float(pred_arr[i]))]:\n",
    "                    result.append((i, 1))\n",
    "                else:\n",
    "                    result.append((i, 0))\n",
    "        return np.array(result)\n",
    "    except Exception as e:\n",
    "        error_type, error_instance, traceback = sys.exc_info()\n",
    "        print(true_arr, pred_arr)\n",
    "        print(error_type, error_instance, traceback)\n",
    "    \n",
    "    \n",
    "def pointwise_accuracy_ceil_or_floor_add1(true_arr, pred_arr):\n",
    "    \"\"\"\n",
    "    Returns a np.array of (index, accuracy_value) tuple.\n",
    "    accuracy_val = 1, when true_arr E {ceil(pred_arr) + 1, floor(pred_arr) - 1}, 0 otherwise. \n",
    "    Missing values in either arrays are discarded for computation\n",
    "    \"\"\"\n",
    "    try:\n",
    "        if len(true_arr) != len(pred_arr):\n",
    "            raise ValueError(\"Array lengths should be equal\")\n",
    "        result = list()\n",
    "        for i in range(len(true_arr)):\n",
    "            if ~np.isnan(true_arr[i]) and ~np.isnan(pred_arr[i]):\n",
    "                if int(true_arr[i]) in [\n",
    "                    math.floor(float(pred_arr[i])) - 1 ,\n",
    "                    math.ceil(float(pred_arr[i])) + 1,\n",
    "                    math.floor(float(pred_arr[i])),\n",
    "                    math.ceil(float(pred_arr[i]))\n",
    "                ]:\n",
    "                    result.append((i, 1))\n",
    "                else:\n",
    "                    result.append((i, 0))\n",
    "        return np.array(result)\n",
    "    except Exception as e:\n",
    "        error_type, error_instance, traceback = sys.exc_info()\n",
    "        print(true_arr, pred_arr)\n",
    "        print(error_type, error_instance, traceback)\n",
    "\n",
    "        \n",
    "def metrics_collector(test_matrix, pred_matrix, common_indices, metrics='all'):\n",
    "    metrics_map = {\n",
    "        'accuracy_ceil_floor_add1': pointwise_accuracy_ceil_or_floor_add1,\n",
    "        'accuracy_ceil_floor': pointwise_accuracy_ceil_or_floor,\n",
    "        'mad': pointwise_mad_between_1darrays\n",
    "    }\n",
    "    try:\n",
    "        if metrics!=\"all\":\n",
    "            raise ValueError(\"something something meri jaan\")\n",
    "        metrics_vals = {key:np.ones([1,3]) for key in metrics_map.keys()}\n",
    "        for i in range(len(test_matrix)):\n",
    "            for metric, func in metrics_map.items():\n",
    "                _val = func(test_matrix[i], pred_matrix[common_indices[i][0]])\n",
    "                _val = np.insert(_val, 0, i, axis=1)\n",
    "                metrics_vals[metric] = np.append(metrics_vals[metric], _val, axis=0)\n",
    "        return metrics_vals\n",
    "    except Exception as e:\n",
    "        error_type, error_instance, traceback = sys.exc_info()\n",
    "        print(error_type, error_instance, traceback)"
   ]
  },
  {
   "cell_type": "code",
   "execution_count": 55,
   "metadata": {},
   "outputs": [],
   "source": [
    "metrics = metrics_collector(test_matrix=test_matrix, pred_matrix=completed_matrix, common_indices=common_user_indices)"
   ]
  },
  {
   "cell_type": "code",
   "execution_count": 56,
   "metadata": {},
   "outputs": [
    {
     "data": {
      "text/plain": [
       "0.2965534341681131"
      ]
     },
     "execution_count": 56,
     "metadata": {},
     "output_type": "execute_result"
    }
   ],
   "source": [
    "accuracy_ceil_floor = np.delete(metrics['accuracy_ceil_floor'], 0, 0)[:,2]\n",
    "np.mean(accuracy_ceil_floor)"
   ]
  },
  {
   "cell_type": "code",
   "execution_count": 57,
   "metadata": {},
   "outputs": [
    {
     "data": {
      "text/plain": [
       "0.7438631291842301"
      ]
     },
     "execution_count": 57,
     "metadata": {},
     "output_type": "execute_result"
    }
   ],
   "source": [
    "accuracy_ceil_floor_add1 = np.delete(metrics['accuracy_ceil_floor_add1'], 0, 0)[:,2]\n",
    "np.mean(accuracy_ceil_floor_add1)"
   ]
  },
  {
   "cell_type": "code",
   "execution_count": 58,
   "metadata": {},
   "outputs": [
    {
     "data": {
      "text/plain": [
       "(1.4941607645001027, 1.3844292166943077, 0.9031946959042594)"
      ]
     },
     "execution_count": 58,
     "metadata": {},
     "output_type": "execute_result"
    }
   ],
   "source": [
    "mad = np.delete(metrics['mad'], 0, 0)[:,2]\n",
    "np.mean(mad), np.median(mad), np.std(mad)"
   ]
  },
  {
   "cell_type": "markdown",
   "metadata": {},
   "source": [
    "## Distribution of mad errors"
   ]
  },
  {
   "cell_type": "code",
   "execution_count": 59,
   "metadata": {},
   "outputs": [
    {
     "data": {
      "image/png": "[encoded data removed]",
      "text/plain": [
       "<Figure size 432x288 with 1 Axes>"
      ]
     },
     "metadata": {
      "needs_background": "light"
     },
     "output_type": "display_data"
    }
   ],
   "source": [
    "import matplotlib.pyplot as plt\n",
    "\n",
    "plt.hist(mad, bins=20)\n",
    "plt.show()"
   ]
  },
  {
   "cell_type": "markdown",
   "metadata": {},
   "source": [
    "## Plotting weights\n"
   ]
  },
  {
   "cell_type": "code",
   "execution_count": 60,
   "metadata": {},
   "outputs": [],
   "source": [
    "import seaborn as sns\n",
    "\n",
    "item_biases = list(model_v3.parameters())[1].data.numpy()\n",
    "user_biases = list(model_v3.parameters())[0].data.numpy()\n",
    "U_values = list(model_v3.parameters())[2].data.numpy()\n",
    "V_values = list(model_v3.parameters())[3].data.numpy()"
   ]
  },
  {
   "cell_type": "code",
   "execution_count": 61,
   "metadata": {},
   "outputs": [
    {
     "data": {
      "text/plain": [
       "[]"
      ]
     },
     "execution_count": 61,
     "metadata": {},
     "output_type": "execute_result"
    },
    {
     "data": {
      "image/png": "[encoded data removed]",
      "text/plain": [
       "<Figure size 432x288 with 1 Axes>"
      ]
     },
     "metadata": {
      "needs_background": "light"
     },
     "output_type": "display_data"
    }
   ],
   "source": [
    "# Item bias plot\n",
    "sns.distplot(item_biases.ravel()).set_title(\"blah\")\n",
    "plt.plot()\n"
   ]
  },
  {
   "cell_type": "code",
   "execution_count": 62,
   "metadata": {},
   "outputs": [
    {
     "data": {
      "text/plain": [
       "[]"
      ]
     },
     "execution_count": 62,
     "metadata": {},
     "output_type": "execute_result"
    },
    {
     "data": {
      "image/png": "[encoded data removed]",
      "text/plain": [
       "<Figure size 432x288 with 1 Axes>"
      ]
     },
     "metadata": {
      "needs_background": "light"
     },
     "output_type": "display_data"
    }
   ],
   "source": [
    "# User bias plot\n",
    "sns.distplot(item_biases.ravel())\n",
    "plt.plot()"
   ]
  },
  {
   "cell_type": "code",
   "execution_count": 63,
   "metadata": {},
   "outputs": [
    {
     "data": {
      "text/plain": [
       "[]"
      ]
     },
     "execution_count": 63,
     "metadata": {},
     "output_type": "execute_result"
    },
    {
     "data": {
      "image/png": "[encoded data removed]",
      "text/plain": [
       "<Figure size 432x288 with 1 Axes>"
      ]
     },
     "metadata": {
      "needs_background": "light"
     },
     "output_type": "display_data"
    }
   ],
   "source": [
    "# User factor plot\n",
    "sns.distplot(U_values.ravel())\n",
    "plt.plot()"
   ]
  },
  {
   "cell_type": "code",
   "execution_count": 64,
   "metadata": {},
   "outputs": [
    {
     "data": {
      "text/plain": [
       "[]"
      ]
     },
     "execution_count": 64,
     "metadata": {},
     "output_type": "execute_result"
    },
    {
     "data": {
      "image/png": "[encoded data removed]",
      "text/plain": [
       "<Figure size 432x288 with 1 Axes>"
      ]
     },
     "metadata": {
      "needs_background": "light"
     },
     "output_type": "display_data"
    }
   ],
   "source": [
    "# Item factors plot\n",
    "sns.distplot(V_values.ravel())\n",
    "plt.plot()"
   ]
  },
  {
   "cell_type": "markdown",
   "metadata": {},
   "source": [
    "## Analysis of errors"
   ]
  },
  {
   "cell_type": "code",
   "execution_count": 68,
   "metadata": {},
   "outputs": [],
   "source": [
    "# we first create a lookup of the \n",
    "#     1. no.of products rated by each user\n",
    "#     2. no.of users who have rated each product\n",
    "\n",
    "detached_train = train_matrix.detach().numpy()\n",
    "user_rating_counts = list(map(lambda x: np.count_nonzero(~np.isnan(detached_train[x, :])), range(len(detached_train))))\n",
    "item_rating_counts = list(map(lambda x: np.count_nonzero(~np.isnan(detached_train[:, x])), range(detached_train.shape[1])))\n"
   ]
  },
  {
   "cell_type": "code",
   "execution_count": 72,
   "metadata": {},
   "outputs": [
    {
     "data": {
      "text/plain": [
       "3484"
      ]
     },
     "execution_count": 72,
     "metadata": {},
     "output_type": "execute_result"
    }
   ],
   "source": [
    "# No of products that had no ratings in the train, but had one rating in the test (effect of sampling)\n",
    "len([x for x in item_rating_counts if x==0])"
   ]
  },
  {
   "cell_type": "code",
   "execution_count": 71,
   "metadata": {},
   "outputs": [
    {
     "data": {
      "text/plain": [
       "(1220, 1, 17, 0)"
      ]
     },
     "execution_count": 71,
     "metadata": {},
     "output_type": "execute_result"
    }
   ],
   "source": [
    "max(user_rating_counts), min(user_rating_counts), max(item_rating_counts), min(item_rating_counts)"
   ]
  },
  {
   "cell_type": "code",
   "execution_count": 108,
   "metadata": {},
   "outputs": [],
   "source": [
    "# get the no of user ratings in log base 10 space\n",
    "\n",
    "user_rating_counts = np.log10(user_rating_counts)\n"
   ]
  },
  {
   "cell_type": "code",
   "execution_count": 126,
   "metadata": {},
   "outputs": [
    {
     "name": "stdout",
     "output_type": "stream",
     "text": [
      "(4034, 3)\n",
      "(2837,)\n"
     ]
    },
    {
     "data": {
      "image/png": "[encoded data removed]",
      "text/plain": [
       "<Figure size 432x288 with 1 Axes>"
      ]
     },
     "metadata": {
      "needs_background": "light"
     },
     "output_type": "display_data"
    }
   ],
   "source": [
    "# loop through the errors and create a dataframe with x as product count and y as user count (in log space)\n",
    "\n",
    "print(metrics['accuracy_ceil_floor'].shape)\n",
    "\n",
    "# filter errors\n",
    "errors = metrics['accuracy_ceil_floor'][metrics['accuracy_ceil_floor'][:,2]==0]\n",
    "\n",
    "# create a vectorizer to map to user and item ratings count from indices\n",
    "user_count_mapper = np.vectorize(lambda x: user_rating_counts[int(x)])\n",
    "item_count_mapper = np.vectorize(lambda x: item_rating_counts[int(x)])\n",
    "\n",
    "print(errors[:,0].shape)\n",
    "\n",
    "# apply mapper to errors\n",
    "errors[:,0] = user_count_mapper(errors[:,0])\n",
    "errors[:,1] = item_count_mapper(errors[:,1])\n",
    "\n",
    "# create a datframe for with item rating counts as 'x' and log(user rating counts) as 'y'\n",
    "error_df = pd.DataFrame(errors[:,:2], columns=['y','x'])\n",
    "error_df = pd.DataFrame({'count' : error_df.groupby( ['x', 'y'] ).size()}).reset_index()\n",
    "\n",
    "sns.scatterplot(x='x', y='y', size='count', data=error_df).figure.savefig(\"www.png\")"
   ]
  },
  {
   "cell_type": "code",
   "execution_count": 104,
   "metadata": {},
   "outputs": [
    {
     "data": {
      "text/html": [
       "<div>\n",
       "<style scoped>\n",
       "    .dataframe tbody tr th:only-of-type {\n",
       "        vertical-align: middle;\n",
       "    }\n",
       "\n",
       "    .dataframe tbody tr th {\n",
       "        vertical-align: top;\n",
       "    }\n",
       "\n",
       "    .dataframe thead th {\n",
       "        text-align: right;\n",
       "    }\n",
       "</style>\n",
       "<table border=\"1\" class=\"dataframe\">\n",
       "  <thead>\n",
       "    <tr style=\"text-align: right;\">\n",
       "      <th></th>\n",
       "      <th>x</th>\n",
       "      <th>y</th>\n",
       "    </tr>\n",
       "  </thead>\n",
       "  <tbody>\n",
       "    <tr>\n",
       "      <th>0</th>\n",
       "      <td>2</td>\n",
       "      <td>2</td>\n",
       "    </tr>\n",
       "    <tr>\n",
       "      <th>1</th>\n",
       "      <td>3</td>\n",
       "      <td>4</td>\n",
       "    </tr>\n",
       "    <tr>\n",
       "      <th>2</th>\n",
       "      <td>2</td>\n",
       "      <td>2</td>\n",
       "    </tr>\n",
       "    <tr>\n",
       "      <th>3</th>\n",
       "      <td>3</td>\n",
       "      <td>5</td>\n",
       "    </tr>\n",
       "  </tbody>\n",
       "</table>\n",
       "</div>"
      ],
      "text/plain": [
       "   x  y\n",
       "0  2  2\n",
       "1  3  4\n",
       "2  2  2\n",
       "3  3  5"
      ]
     },
     "execution_count": 104,
     "metadata": {},
     "output_type": "execute_result"
    }
   ],
   "source": [
    "kkt = pd.DataFrame([[2,2],[3,4],[2,2],[3,5]], columns=['x','y'])\n",
    "kkt"
   ]
  },
  {
   "cell_type": "code",
   "execution_count": 106,
   "metadata": {},
   "outputs": [],
   "source": [
    "kkt = pd.DataFrame({'count' : kkt.groupby( ['x', 'y'] ).size()}).reset_index()\n"
   ]
  },
  {
   "cell_type": "code",
   "execution_count": 107,
   "metadata": {},
   "outputs": [
    {
     "data": {
      "text/plain": [
       "<matplotlib.axes._subplots.AxesSubplot at 0x7fe37a384650>"
      ]
     },
     "execution_count": 107,
     "metadata": {},
     "output_type": "execute_result"
    },
    {
     "data": {
      "image/png": "[encoded data removed]",
      "text/plain": [
       "<Figure size 432x288 with 1 Axes>"
      ]
     },
     "metadata": {
      "needs_background": "light"
     },
     "output_type": "display_data"
    }
   ],
   "source": [
    "sns.scatterplot(x='x', y='y', size='count', data=kkt)"
   ]
  },
  {
   "cell_type": "code",
   "execution_count": 116,
   "metadata": {},
   "outputs": [
    {
     "data": {
      "text/plain": [
       "array([[  2, 200],\n",
       "       [  3, 400],\n",
       "       [  2, 200],\n",
       "       [  3, 500]])"
      ]
     },
     "execution_count": 116,
     "metadata": {},
     "output_type": "execute_result"
    }
   ],
   "source": [
    "nn = np.array([[2,2],[3,4],[2,2],[3,5]])\n",
    "mpp = np.array([200, 300, 400, 500])\n",
    "w = np.vectorize(lambda x: mpp[x-2])\n",
    "\n",
    "nn[:,1] = w(nn[:,1])\n",
    "\n",
    "nn"
   ]
  },
  {
   "cell_type": "code",
   "execution_count": 131,
   "metadata": {},
   "outputs": [
    {
     "data": {
      "text/plain": [
       "'fff45fe4-a932-4e7f-80ce-4de40e58452bka'"
      ]
     },
     "execution_count": 131,
     "metadata": {},
     "output_type": "execute_result"
    }
   ],
   "source": [
    "from uuid import uuid4\n",
    "str(uuid4())+\"ka\""
   ]
  },
  {
   "cell_type": "code",
   "execution_count": 69,
   "metadata": {},
   "outputs": [
    {
     "name": "stdout",
     "output_type": "stream",
     "text": [
      "3484\n"
     ]
    }
   ],
   "source": [
    "def get_products_with_no_ratings(s):\n",
    "    col_indices = list()\n",
    "    for i in range(s.shape[1]):\n",
    "        if np.count_nonzero(~np.isnan(s[:,i]))==0:\n",
    "            col_indices.append(i)\n",
    "    return col_indices\n",
    "\n",
    "print(len(get_products_with_no_ratings(detached_train)))"
   ]
  },
  {
   "cell_type": "markdown",
   "metadata": {},
   "source": []
  }
 ],
 "metadata": {
  "kernelspec": {
   "display_name": "Python 3",
   "language": "python",
   "name": "python3"
  },
  "language_info": {
   "codemirror_mode": {
    "name": "ipython",
    "version": 3
   },
   "file_extension": ".py",
   "mimetype": "text/x-python",
   "name": "python",
   "nbconvert_exporter": "python",
   "pygments_lexer": "ipython3",
   "version": "3.7.6"
  }
 },
 "nbformat": 4,
 "nbformat_minor": 4
}
