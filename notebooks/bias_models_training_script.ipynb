{
 "cells": [
  {
   "cell_type": "code",
   "execution_count": 33,
   "metadata": {},
   "outputs": [],
   "source": [
    "import sys\n",
    "import torch\n",
    "import torch.nn as nn\n",
    "from torch import optim\n",
    "import torch.nn.functional as F\n",
    "import numpy as np\n",
    "import matplotlib.pyplot as plt\n",
    "import pandas as pd\n",
    "import math"
   ]
  },
  {
   "cell_type": "code",
   "execution_count": 34,
   "metadata": {},
   "outputs": [],
   "source": [
    "\"\"\"\n",
    "Dimensions need to be checked between n_users. n_items and X before calling this\n",
    "\"\"\"\n",
    "\n",
    "class Bias_Model(nn.Module):\n",
    "  \n",
    "    def __init__(self, n_users, n_items, nan_map, rand_init=True, max_bias=3, min_bias=0):\n",
    "        super().__init__()\n",
    "        torch.manual_seed(0)\n",
    "        self.user_bias = nn.Parameter(torch.zeros(n_users))\n",
    "        self.item_bias = nn.Parameter(torch.zeros(n_items))\n",
    "        self.nan_map = nan_map\n",
    "        if rand_init:\n",
    "            nn.init.uniform_(self.user_bias, min_bias, max_bias)\n",
    "            nn.init.uniform_(self.item_bias, min_bias, max_bias)\n",
    "    \n",
    "    def forward(self, X):\n",
    "        y_pred = torch.cartesian_prod(self.user_bias, self.item_bias).sum(-1).view(len(self.user_bias), len(self.item_bias))\n",
    "        y_pred = torch.where(self.nan_map, torch.zeros_like(y_pred), y_pred)\n",
    "        return y_pred\n",
    "        "
   ]
  },
  {
   "cell_type": "code",
   "execution_count": 35,
   "metadata": {},
   "outputs": [],
   "source": [
    "def fit_v1(interaction_matrix, model, nan_map, epochs=50, learning_rate=0.6, wt_decay=1e-10):\n",
    "    loss_arr = []\n",
    "    opt = optim.Adam(model.parameters(), lr=learning_rate, weight_decay=wt_decay)\n",
    "    \n",
    "    X_train = torch.where(nan_map, torch.zeros_like(interaction_matrix), interaction_matrix)\n",
    "    \n",
    "    for epoch in range(epochs):\n",
    "        y_hat = model(X_train)\n",
    "        loss = F.mse_loss(y_hat, X_train)\n",
    "        print(\"Epoch # {} --> mse_loss: {}\".format(epoch, loss.item()))\n",
    "        loss_arr.append(loss.item())\n",
    "\n",
    "        loss.backward()\n",
    "        opt.step()\n",
    "        opt.zero_grad()\n",
    "\n",
    "\n",
    "    plt.plot(loss_arr, 'r-')\n",
    "    plt.show()      \n",
    "    print('Loss before training', loss_arr[0])\n",
    "    print('Loss after training', loss_arr[-1])"
   ]
  },
  {
   "cell_type": "markdown",
   "metadata": {},
   "source": [
    "## Training on Magazine data"
   ]
  },
  {
   "cell_type": "markdown",
   "metadata": {},
   "source": [
    "#### Load the train and test files"
   ]
  },
  {
   "cell_type": "code",
   "execution_count": 36,
   "metadata": {},
   "outputs": [],
   "source": [
    "torch.set_default_tensor_type(torch.DoubleTensor)\n",
    "\n",
    "import dill\n",
    "\n",
    "load_path = \"file_server/processed_data/iteration1/magazine_subscription_subset_115X18241/\"\n",
    "\n",
    "# train_matrix\n",
    "train_matrix = dill.load(open(load_path+\"train_matrix.pkl\", \"rb\"))\n",
    "\n",
    "# train_users\n",
    "train_users = dill.load(open(load_path+\"train_users.pkl\", \"rb\"))\n",
    "\n",
    "# items (common for train and test)\n",
    "items = dill.load(open(load_path+\"items.pkl\", \"rb\"))\n",
    "\n",
    "# test_matrix\n",
    "test_matrix = dill.load(open(load_path+\"test_matrix.pkl\", \"rb\"))\n",
    "\n",
    "# test_users\n",
    "test_users = dill.load(open(load_path+\"test_users.pkl\", \"rb\"))"
   ]
  },
  {
   "cell_type": "code",
   "execution_count": 37,
   "metadata": {},
   "outputs": [],
   "source": [
    "# Convert train_matrix to torch tensor and calc n_users and n_items\n",
    "train_matrix = torch.from_numpy(train_matrix)\n",
    "\n",
    "# Create nan_map, get n_users and n_items\n",
    "nan_mp = torch.isnan(train_matrix)\n",
    "n_users, n_items = len(train_users), len(items)"
   ]
  },
  {
   "cell_type": "code",
   "execution_count": 38,
   "metadata": {},
   "outputs": [
    {
     "data": {
      "text/plain": [
       "(torch.Size([115, 18241]), torch.Size([115, 18241]))"
      ]
     },
     "execution_count": 38,
     "metadata": {},
     "output_type": "execute_result"
    }
   ],
   "source": [
    "train_matrix.shape, nan_mp.shape"
   ]
  },
  {
   "cell_type": "code",
   "execution_count": 39,
   "metadata": {},
   "outputs": [
    {
     "name": "stdout",
     "output_type": "stream",
     "text": [
      "Epoch # 0 --> mse_loss: 0.03044120304740535\n",
      "Epoch # 1 --> mse_loss: 0.014593096862616175\n",
      "Epoch # 2 --> mse_loss: 0.007663911355309036\n",
      "Epoch # 3 --> mse_loss: 0.005315587948900306\n",
      "Epoch # 4 --> mse_loss: 0.004442919329301933\n",
      "Epoch # 5 --> mse_loss: 0.004075705765367349\n",
      "Epoch # 6 --> mse_loss: 0.004082896259363736\n",
      "Epoch # 7 --> mse_loss: 0.004220149688528311\n",
      "Epoch # 8 --> mse_loss: 0.004218099084371345\n",
      "Epoch # 9 --> mse_loss: 0.004044472853133716\n",
      "Epoch # 10 --> mse_loss: 0.003807217285036366\n",
      "Epoch # 11 --> mse_loss: 0.003549923576316235\n",
      "Epoch # 12 --> mse_loss: 0.003229764862433004\n",
      "Epoch # 13 --> mse_loss: 0.0028240715453218893\n",
      "Epoch # 14 --> mse_loss: 0.0023794942545085056\n",
      "Epoch # 15 --> mse_loss: 0.0019727802805645945\n",
      "Epoch # 16 --> mse_loss: 0.001661379004753514\n",
      "Epoch # 17 --> mse_loss: 0.0014627778215432242\n",
      "Epoch # 18 --> mse_loss: 0.0013618831514889621\n",
      "Epoch # 19 --> mse_loss: 0.0013244333047541725\n",
      "Epoch # 20 --> mse_loss: 0.0013093668462225276\n",
      "Epoch # 21 --> mse_loss: 0.0012812167693558303\n",
      "Epoch # 22 --> mse_loss: 0.0012242141924301187\n",
      "Epoch # 23 --> mse_loss: 0.0011493001235043864\n",
      "Epoch # 24 --> mse_loss: 0.0010781042883457569\n",
      "Epoch # 25 --> mse_loss: 0.001017598671872981\n",
      "Epoch # 26 --> mse_loss: 0.0009579487659246952\n",
      "Epoch # 27 --> mse_loss: 0.0008932331257282563\n",
      "Epoch # 28 --> mse_loss: 0.0008301954295935528\n",
      "Epoch # 29 --> mse_loss: 0.0007755003545624566\n",
      "Epoch # 30 --> mse_loss: 0.0007271519638385865\n",
      "Epoch # 31 --> mse_loss: 0.0006826058538012662\n",
      "Epoch # 32 --> mse_loss: 0.0006457062621724697\n",
      "Epoch # 33 --> mse_loss: 0.000620796738275389\n",
      "Epoch # 34 --> mse_loss: 0.0006054311729975188\n",
      "Epoch # 35 --> mse_loss: 0.0005920573404250896\n",
      "Epoch # 36 --> mse_loss: 0.0005748543477164453\n",
      "Epoch # 37 --> mse_loss: 0.0005538216113783375\n",
      "Epoch # 38 --> mse_loss: 0.0005330368377657736\n",
      "Epoch # 39 --> mse_loss: 0.0005159214686239269\n",
      "Epoch # 40 --> mse_loss: 0.0005029874788786375\n",
      "Epoch # 41 --> mse_loss: 0.0004927372078596116\n",
      "Epoch # 42 --> mse_loss: 0.00048255696629920437\n",
      "Epoch # 43 --> mse_loss: 0.0004702352422069792\n",
      "Epoch # 44 --> mse_loss: 0.0004567889805365508\n",
      "Epoch # 45 --> mse_loss: 0.000445775267050568\n",
      "Epoch # 46 --> mse_loss: 0.00043845871808195454\n",
      "Epoch # 47 --> mse_loss: 0.00043257244539916166\n",
      "Epoch # 48 --> mse_loss: 0.00042636839088061335\n",
      "Epoch # 49 --> mse_loss: 0.0004204620824790337\n"
     ]
    },
    {
     "data": {
      "image/png": "[encoded data removed]",
      "text/plain": [
       "<Figure size 432x288 with 1 Axes>"
      ]
     },
     "metadata": {
      "needs_background": "light"
     },
     "output_type": "display_data"
    },
    {
     "name": "stdout",
     "output_type": "stream",
     "text": [
      "Loss before training 0.03044120304740535\n",
      "Loss after training 0.0004204620824790337\n",
      "CPU times: user 13.6 s, sys: 18.2 s, total: 31.8 s\n",
      "Wall time: 2.05 s\n"
     ]
    }
   ],
   "source": [
    "%%time\n",
    "# create and fit the model\n",
    "model_v3 = Bias_Model(n_users=n_users, n_items=n_items, nan_map=nan_mp)\n",
    "fit_v1(interaction_matrix=train_matrix, nan_map=nan_mp, model=model_v3)"
   ]
  },
  {
   "cell_type": "markdown",
   "metadata": {},
   "source": [
    "## Testing of test dataset"
   ]
  },
  {
   "cell_type": "code",
   "execution_count": 40,
   "metadata": {},
   "outputs": [],
   "source": [
    "# create completed matrix\n",
    "completed_matrix = torch.cartesian_prod(model_v3.user_bias, model_v3.item_bias).sum(-1).view(len(model_v3.user_bias), len(model_v3.item_bias))\n",
    "\n",
    "# replace original training values using nan_mp\n",
    "completed_matrix = torch.where(nan_mp, completed_matrix, train_matrix).detach().numpy()"
   ]
  },
  {
   "cell_type": "code",
   "execution_count": 41,
   "metadata": {},
   "outputs": [],
   "source": [
    "# get index of users in train set who are present in test set\n",
    "common_user_indices = np.argwhere(np.in1d(train_users, test_users))"
   ]
  },
  {
   "cell_type": "code",
   "execution_count": 49,
   "metadata": {},
   "outputs": [],
   "source": [
    "def pointwise_mad_between_1darrays(arr1, arr2):\n",
    "    \"\"\"\n",
    "    This function returns a np.array of (index, mad_value) tuple, \n",
    "    index signifying which index at both arrays were used to compute the value.\n",
    "    If either of the arrays have NaN value at any given index, then its ignored for computation\n",
    "    \"\"\"\n",
    "    try:\n",
    "        if len(arr1) != len(arr2):\n",
    "            raise ValueError(\"Array lengths should be equal\")\n",
    "        result = list()\n",
    "        for i in range(len(arr1)):\n",
    "            if ~np.isnan(arr1[i]) and ~np.isnan(arr2[i]):\n",
    "                result.append((i, abs(float(arr1[i]) - float(arr2[i]))))\n",
    "        return np.array(result)\n",
    "    except Exception as e:\n",
    "        error_type, error_instance, traceback = sys.exc_info()\n",
    "        print(arr1, arr2)\n",
    "        print(error_type, error_instance, traceback)\n",
    "        \n",
    "\n",
    "def pointwise_accuracy_ceil_or_floor(true_arr, pred_arr):\n",
    "    \"\"\"\n",
    "    Returns a np.array of (index, accuracy_value) tuple.\n",
    "    accuracy_val = 1, when true_arr E {ceil(pred_arr), floor(pred_arr)}, 0 otherwise. \n",
    "    Missing values in either arrays are discarded for computation\n",
    "    \"\"\"\n",
    "    try:\n",
    "        if len(true_arr) != len(pred_arr):\n",
    "            raise ValueError(\"Array lengths should be equal\")\n",
    "        result = list()\n",
    "        for i in range(len(true_arr)):\n",
    "            if ~np.isnan(true_arr[i]) and ~np.isnan(pred_arr[i]):\n",
    "                if int(true_arr[i]) in [math.floor(float(pred_arr[i])), math.ceil(float(pred_arr[i]))]:\n",
    "                    result.append((i, 1))\n",
    "                else:\n",
    "                    result.append((i, 0))\n",
    "        return np.array(result)\n",
    "    except Exception as e:\n",
    "        error_type, error_instance, traceback = sys.exc_info()\n",
    "        print(true_arr, pred_arr)\n",
    "        print(error_type, error_instance, traceback)\n",
    "    \n",
    "    \n",
    "def pointwise_accuracy_ceil_or_floor_add1(true_arr, pred_arr):\n",
    "    \"\"\"\n",
    "    Returns a np.array of (index, accuracy_value) tuple.\n",
    "    accuracy_val = 1, when true_arr E {ceil(pred_arr) + 1, floor(pred_arr) - 1}, 0 otherwise. \n",
    "    Missing values in either arrays are discarded for computation\n",
    "    \"\"\"\n",
    "    try:\n",
    "        if len(true_arr) != len(pred_arr):\n",
    "            raise ValueError(\"Array lengths should be equal\")\n",
    "        result = list()\n",
    "        for i in range(len(true_arr)):\n",
    "            if ~np.isnan(true_arr[i]) and ~np.isnan(pred_arr[i]):\n",
    "                if int(true_arr[i]) in [\n",
    "                    math.floor(float(pred_arr[i])) - 1 ,\n",
    "                    math.ceil(float(pred_arr[i])) + 1,\n",
    "                    math.floor(float(pred_arr[i])),\n",
    "                    math.ceil(float(pred_arr[i]))\n",
    "                ]:\n",
    "                    result.append((i, 1))\n",
    "                else:\n",
    "                    result.append((i, 0))\n",
    "        return np.array(result)\n",
    "    except Exception as e:\n",
    "        error_type, error_instance, traceback = sys.exc_info()\n",
    "        print(true_arr, pred_arr)\n",
    "        print(error_type, error_instance, traceback)\n",
    "\n",
    "        \n",
    "def metrics_collector(test_matrix, pred_matrix, common_indices, metrics='all'):\n",
    "    metrics_map = {\n",
    "        'accuracy_ceil_floor_add1': pointwise_accuracy_ceil_or_floor_add1,\n",
    "        'accuracy_ceil_floor': pointwise_accuracy_ceil_or_floor,\n",
    "        'mad': pointwise_mad_between_1darrays\n",
    "    }\n",
    "    try:\n",
    "        if metrics!=\"all\":\n",
    "            raise ValueError(\"something something meri jaan\")\n",
    "        metrics_vals = {key:np.ones([1,3]) for key in metrics_map.keys()}\n",
    "        for i in range(len(test_matrix)):\n",
    "            for metric, func in metrics_map.items():\n",
    "                _val = func(test_matrix[i], pred_matrix[common_indices[i][0]])\n",
    "                _val = np.insert(_val, 0, i, axis=1)\n",
    "                metrics_vals[metric] = np.append(metrics_vals[metric], _val, axis=0)\n",
    "        return metrics_vals\n",
    "    except Exception as e:\n",
    "        error_type, error_instance, traceback = sys.exc_info()\n",
    "        print(error_type, error_instance, traceback)"
   ]
  },
  {
   "cell_type": "code",
   "execution_count": null,
   "metadata": {},
   "outputs": [],
   "source": []
  },
  {
   "cell_type": "code",
   "execution_count": 50,
   "metadata": {},
   "outputs": [],
   "source": [
    "metrics = metrics_collector(test_matrix=test_matrix, pred_matrix=completed_matrix, common_indices=common_user_indices)"
   ]
  },
  {
   "cell_type": "code",
   "execution_count": 51,
   "metadata": {},
   "outputs": [
    {
     "data": {
      "text/plain": [
       "{'accuracy_ceil_floor_add1': array([[1.0000e+00, 1.0000e+00, 1.0000e+00],\n",
       "        [0.0000e+00, 6.6000e+01, 0.0000e+00],\n",
       "        [0.0000e+00, 3.8100e+02, 1.0000e+00],\n",
       "        ...,\n",
       "        [1.0600e+02, 1.3168e+04, 1.0000e+00],\n",
       "        [1.0600e+02, 1.6530e+04, 1.0000e+00],\n",
       "        [1.0600e+02, 1.6873e+04, 1.0000e+00]]),\n",
       " 'accuracy_ceil_floor': array([[1.0000e+00, 1.0000e+00, 1.0000e+00],\n",
       "        [0.0000e+00, 6.6000e+01, 0.0000e+00],\n",
       "        [0.0000e+00, 3.8100e+02, 0.0000e+00],\n",
       "        ...,\n",
       "        [1.0600e+02, 1.3168e+04, 1.0000e+00],\n",
       "        [1.0600e+02, 1.6530e+04, 0.0000e+00],\n",
       "        [1.0600e+02, 1.6873e+04, 1.0000e+00]]),\n",
       " 'mad': array([[1.00000000e+00, 1.00000000e+00, 1.00000000e+00],\n",
       "        [0.00000000e+00, 6.60000000e+01, 3.00293639e+00],\n",
       "        [0.00000000e+00, 3.81000000e+02, 1.91807604e+00],\n",
       "        ...,\n",
       "        [1.06000000e+02, 1.31680000e+04, 8.19661064e-01],\n",
       "        [1.06000000e+02, 1.65300000e+04, 1.22751987e+00],\n",
       "        [1.06000000e+02, 1.68730000e+04, 8.72146027e-01]])}"
      ]
     },
     "execution_count": 51,
     "metadata": {},
     "output_type": "execute_result"
    }
   ],
   "source": [
    "metrics"
   ]
  },
  {
   "cell_type": "code",
   "execution_count": 52,
   "metadata": {},
   "outputs": [
    {
     "data": {
      "text/plain": [
       "0.35011157946937765"
      ]
     },
     "execution_count": 52,
     "metadata": {},
     "output_type": "execute_result"
    }
   ],
   "source": [
    "accuracy_ceil_floor = np.delete(metrics['accuracy_ceil_floor'], 0, 0)[:,2]\n",
    "np.mean(accuracy_ceil_floor)"
   ]
  },
  {
   "cell_type": "code",
   "execution_count": 53,
   "metadata": {},
   "outputs": [
    {
     "data": {
      "text/plain": [
       "0.7126208777584925"
      ]
     },
     "execution_count": 53,
     "metadata": {},
     "output_type": "execute_result"
    }
   ],
   "source": [
    "accuracy_ceil_floor_add1 = np.delete(metrics['accuracy_ceil_floor_add1'], 0, 0)[:,2]\n",
    "np.mean(accuracy_ceil_floor_add1)"
   ]
  },
  {
   "cell_type": "code",
   "execution_count": 54,
   "metadata": {},
   "outputs": [
    {
     "data": {
      "text/plain": [
       "1.4510915656361518"
      ]
     },
     "execution_count": 54,
     "metadata": {},
     "output_type": "execute_result"
    }
   ],
   "source": [
    "mad = np.delete(metrics['mad'], 0, 0)[:,2]\n",
    "np.mean(mad)"
   ]
  },
  {
   "cell_type": "code",
   "execution_count": 55,
   "metadata": {},
   "outputs": [
    {
     "data": {
      "text/plain": [
       "0.8611455492189437"
      ]
     },
     "execution_count": 55,
     "metadata": {},
     "output_type": "execute_result"
    }
   ],
   "source": [
    "m2 = np.array(list(map(lambda x: x<2.5, mad)))\n",
    "np.sum(m2)/len(m2)"
   ]
  },
  {
   "cell_type": "code",
   "execution_count": 56,
   "metadata": {},
   "outputs": [
    {
     "data": {
      "image/png": "[encoded data removed]",
      "text/plain": [
       "<Figure size 432x288 with 1 Axes>"
      ]
     },
     "metadata": {
      "needs_background": "light"
     },
     "output_type": "display_data"
    }
   ],
   "source": [
    "import matplotlib.pyplot as plt\n",
    "\n",
    "plt.hist(mad, bins=20)\n",
    "plt.show()"
   ]
  },
  {
   "cell_type": "code",
   "execution_count": 57,
   "metadata": {},
   "outputs": [
    {
     "data": {
      "text/plain": [
       "0.8866639373270518"
      ]
     },
     "execution_count": 57,
     "metadata": {},
     "output_type": "execute_result"
    }
   ],
   "source": [
    "np.std(mad)"
   ]
  },
  {
   "cell_type": "markdown",
   "metadata": {},
   "source": [
    "## Plotting weights"
   ]
  },
  {
   "cell_type": "code",
   "execution_count": 31,
   "metadata": {},
   "outputs": [],
   "source": [
    "import seaborn as sns\n",
    "\n",
    "item_biases = list(model_v3.parameters())[1].data.numpy()\n",
    "user_biases = list(model_v3.parameters())[0].data.numpy()"
   ]
  },
  {
   "cell_type": "code",
   "execution_count": 32,
   "metadata": {},
   "outputs": [
    {
     "data": {
      "text/plain": [
       "[]"
      ]
     },
     "execution_count": 32,
     "metadata": {},
     "output_type": "execute_result"
    },
    {
     "data": {
      "image/png": "[encoded data removed]",
      "text/plain": [
       "<Figure size 432x288 with 1 Axes>"
      ]
     },
     "metadata": {
      "needs_background": "light"
     },
     "output_type": "display_data"
    }
   ],
   "source": [
    "sns.distplot(item_biases.ravel())\n",
    "plt.plot()"
   ]
  },
  {
   "cell_type": "code",
   "execution_count": null,
   "metadata": {},
   "outputs": [],
   "source": [
    "sns.distplot(item_biases.ravel())\n",
    "plt.plot()"
   ]
  },
  {
   "cell_type": "markdown",
   "metadata": {},
   "source": [
    "## Testing with small handcrafted input"
   ]
  },
  {
   "cell_type": "code",
   "execution_count": null,
   "metadata": {},
   "outputs": [],
   "source": [
    "# testing with dummy matrix\n",
    "train = torch.tensor([\n",
    "    [4, np.nan, np.nan, 3, 5, 3],\n",
    "    [np.nan, 1, 2, np.nan, 3, np.nan],\n",
    "    [4, np.nan, np.nan, 3, 4, 2],\n",
    "    [5, 1, 2, np.nan, 3, np.nan],\n",
    "    [4, np.nan, 3, 3, 5, 1]\n",
    "])\n",
    "\n",
    "nan_map = torch.isnan(train)\n",
    "n_users, n_items = train.shape\n"
   ]
  },
  {
   "cell_type": "code",
   "execution_count": null,
   "metadata": {},
   "outputs": [],
   "source": [
    "model = Bias_Model(n_users=n_users, n_items=n_items, nan_map=nan_map)\n",
    "fit_v1(interaction_matrix=train, nan_map=nan_map, model=model)"
   ]
  },
  {
   "cell_type": "code",
   "execution_count": null,
   "metadata": {},
   "outputs": [],
   "source": [
    "model_v2 = Bias_Model(n_users=n_users, n_items=n_items, nan_map=nan_map, rand_init=False)\n",
    "fit_v1(interaction_matrix=train, nan_map=nan_map, model=model_v2)"
   ]
  },
  {
   "cell_type": "code",
   "execution_count": null,
   "metadata": {
    "scrolled": true
   },
   "outputs": [],
   "source": [
    "model_v2.user_bias, model_v2.item_bias"
   ]
  },
  {
   "cell_type": "code",
   "execution_count": null,
   "metadata": {},
   "outputs": [],
   "source": [
    "model.user_bias, model.item_bias"
   ]
  },
  {
   "cell_type": "code",
   "execution_count": null,
   "metadata": {},
   "outputs": [],
   "source": [
    "final = torch.cartesian_prod(model.user_bias, model.item_bias).sum(-1).view(len(model.user_bias), len(model.item_bias))\n",
    "final"
   ]
  },
  {
   "cell_type": "code",
   "execution_count": null,
   "metadata": {},
   "outputs": [],
   "source": [
    "final_v2 = torch.cartesian_prod(model_v2.user_bias, model_v2.item_bias).sum(-1).view(len(model_v2.user_bias), len(model_v2.item_bias))\n",
    "final_v2"
   ]
  },
  {
   "cell_type": "code",
   "execution_count": null,
   "metadata": {},
   "outputs": [],
   "source": [
    "train"
   ]
  },
  {
   "cell_type": "code",
   "execution_count": null,
   "metadata": {},
   "outputs": [],
   "source": [
    "torch.where(nan_map, final, train)"
   ]
  },
  {
   "cell_type": "code",
   "execution_count": null,
   "metadata": {},
   "outputs": [],
   "source": [
    "torch.where(nan_map, final_v2, train)"
   ]
  },
  {
   "cell_type": "code",
   "execution_count": null,
   "metadata": {},
   "outputs": [],
   "source": []
  },
  {
   "cell_type": "code",
   "execution_count": null,
   "metadata": {},
   "outputs": [],
   "source": [
    "import math\n",
    "def pointwise_mad_and_accuracy_for_non_na(train_row, test_row):\n",
    "    errors = np.empty(0)\n",
    "    accuracy = np.empty(0)\n",
    "    for i in range(len(train_row)):\n",
    "        if ~np.isnan(train_row[i]) and ~np.isnan(test_row[i]):\n",
    "            errors = np.append(errors, abs(float(train_row[i]) - float(test_row[i])))\n",
    "            if int(test_row[i]) in [math.floor(float(train_row[i])), math.ceil(float(train_row[i]))]:\n",
    "                accuracy = np.append(accuracy, 1)\n",
    "            else:\n",
    "                accuracy = np.append(accuracy, 0)\n",
    "    return errors.mean(), np.mean(accuracy)\n"
   ]
  },
  {
   "cell_type": "code",
   "execution_count": null,
   "metadata": {},
   "outputs": [],
   "source": [
    "# error_arr, accuracy_arr = np.empty(0), np.empty(0)\n",
    "\n",
    "# for i in range(len(test_users)):\n",
    "#     err, acc = pointwise_mad_and_accuracy_for_non_na(test_row=test_matrix[i], train_row=completed_matrix[common_user_indices[i][0]])\n",
    "#     error_arr = np.append(error_arr, err)\n",
    "#     accuracy_arr = np.append(accuracy_arr, acc)\n",
    "\n",
    "# np.median(error_arr), np.median(accuracy_arr)"
   ]
  },
  {
   "cell_type": "code",
   "execution_count": null,
   "metadata": {},
   "outputs": [],
   "source": [
    "# np.count_nonzero(~np.isnan(test_matrix))"
   ]
  },
  {
   "cell_type": "markdown",
   "metadata": {},
   "source": [
    "### Scribble pad"
   ]
  },
  {
   "cell_type": "code",
   "execution_count": 48,
   "metadata": {},
   "outputs": [
    {
     "data": {
      "text/plain": [
       "(107, 115, 107, 114)"
      ]
     },
     "execution_count": 48,
     "metadata": {},
     "output_type": "execute_result"
    }
   ],
   "source": [
    "len(common_user_indices), len(train_matrix), len(test_matrix), common_user_indices[106][0]"
   ]
  },
  {
   "cell_type": "code",
   "execution_count": null,
   "metadata": {},
   "outputs": [],
   "source": [
    "def some_f(a,b):\n",
    "    try:\n",
    "        if len(a) != len(b):\n",
    "            raise ValueError(\"Array lengths should be equal\")\n",
    "        print(\"does this\")\n",
    "    except Exception as e:\n",
    "        return e\n",
    "\n",
    "a = [2,4,5]\n",
    "b = [3,4,1]\n",
    "X = pointwise_mad_between_1darrays(a,b)\n",
    "X = np.insert(X, 0, 6., axis=1)\n",
    "X"
   ]
  },
  {
   "cell_type": "code",
   "execution_count": null,
   "metadata": {},
   "outputs": [],
   "source": [
    "x = np.array([1,2,3,4])\n",
    "# x = np.insert(x, 0, 1, axis=1)\n",
    "np.insert(x.reshape(-1, 1), 0, 4, axis=1)"
   ]
  },
  {
   "cell_type": "code",
   "execution_count": null,
   "metadata": {},
   "outputs": [],
   "source": [
    "a = np.ones([1,3])\n",
    "b = np.array([[1,3,3]])\n",
    "# print(a, b)\n",
    "a_del = np.append(a, b, axis=0)\n",
    "# a_del = np.delete(a_del, 0, 0)\n",
    "a_del"
   ]
  },
  {
   "cell_type": "code",
   "execution_count": null,
   "metadata": {},
   "outputs": [],
   "source": [
    "np.median(a_del[:,2])"
   ]
  },
  {
   "cell_type": "code",
   "execution_count": 14,
   "metadata": {},
   "outputs": [
    {
     "data": {
      "text/plain": [
       "(tensor([3, 4]), tensor([31, 41]))"
      ]
     },
     "execution_count": 14,
     "metadata": {},
     "output_type": "execute_result"
    }
   ],
   "source": [
    "a = torch.tensor([[1,2], [3,4], [4,5]])\n",
    "b = torch.tensor([[11,21], [31,41], [41,51]])\n",
    "\n",
    "from torch.utils.data import TensorDataset\n",
    "tds = TensorDataset(a,b)\n",
    "tds[1]"
   ]
  },
  {
   "cell_type": "code",
   "execution_count": 16,
   "metadata": {},
   "outputs": [
    {
     "name": "stdout",
     "output_type": "stream",
     "text": [
      "tensor([[3, 4],\n",
      "        [4, 5]])\n",
      "tensor([[31, 41],\n",
      "        [41, 51]])\n",
      "----\n",
      "tensor([[1, 2]])\n",
      "tensor([[11, 21]])\n",
      "----\n"
     ]
    }
   ],
   "source": [
    "from torch.utils.data import DataLoader\n",
    "batch = DataLoader(tds, batch_size=2, shuffle=True)\n",
    "\n",
    "for x,y in batch:\n",
    "    print(x)\n",
    "    print(y)\n",
    "    print(\"----\")"
   ]
  },
  {
   "cell_type": "code",
   "execution_count": 74,
   "metadata": {},
   "outputs": [
    {
     "name": "stdout",
     "output_type": "stream",
     "text": [
      "[[ 1. nan nan]\n",
      " [nan nan nan]\n",
      " [nan nan nan]\n",
      " [ 2. nan nan]] ['u1' 'u2' 'u3' 'u4'] ['i1' 'i2' 'i3']\n",
      "[1, 2]\n"
     ]
    },
    {
     "ename": "AxisError",
     "evalue": "axis 1 is out of bounds for array of dimension 1",
     "output_type": "error",
     "traceback": [
      "\u001b[0;31m---------------------------------------------------------------------\u001b[0m",
      "\u001b[0;31mAxisError\u001b[0m                           Traceback (most recent call last)",
      "\u001b[0;32m<ipython-input-74-366fe8d84201>\u001b[0m in \u001b[0;36m<module>\u001b[0;34m\u001b[0m\n\u001b[1;32m     15\u001b[0m \u001b[0mcol_to_remove\u001b[0m \u001b[0;34m=\u001b[0m \u001b[0mget_products_with_no_ratings\u001b[0m\u001b[0;34m(\u001b[0m\u001b[0ms\u001b[0m\u001b[0;34m)\u001b[0m\u001b[0;34m\u001b[0m\u001b[0;34m\u001b[0m\u001b[0m\n\u001b[1;32m     16\u001b[0m \u001b[0;34m\u001b[0m\u001b[0m\n\u001b[0;32m---> 17\u001b[0;31m \u001b[0ms\u001b[0m \u001b[0;34m=\u001b[0m \u001b[0mnp\u001b[0m\u001b[0;34m.\u001b[0m\u001b[0mdelete\u001b[0m\u001b[0;34m(\u001b[0m\u001b[0;34m[\u001b[0m\u001b[0ms\u001b[0m\u001b[0;34m,\u001b[0m\u001b[0mi\u001b[0m\u001b[0;34m]\u001b[0m\u001b[0;34m,\u001b[0m \u001b[0mcol_to_remove\u001b[0m\u001b[0;34m,\u001b[0m \u001b[0maxis\u001b[0m\u001b[0;34m=\u001b[0m\u001b[0;36m1\u001b[0m\u001b[0;34m)\u001b[0m\u001b[0;34m\u001b[0m\u001b[0;34m\u001b[0m\u001b[0m\n\u001b[0m\u001b[1;32m     18\u001b[0m \u001b[0;31m# u = np.delete(u, get_products_with_no_ratings(s), axis=0)\u001b[0m\u001b[0;34m\u001b[0m\u001b[0;34m\u001b[0m\u001b[0;34m\u001b[0m\u001b[0m\n\u001b[1;32m     19\u001b[0m \u001b[0mi\u001b[0m \u001b[0;34m=\u001b[0m \u001b[0mnp\u001b[0m\u001b[0;34m.\u001b[0m\u001b[0mdelete\u001b[0m\u001b[0;34m(\u001b[0m\u001b[0mi\u001b[0m\u001b[0;34m,\u001b[0m \u001b[0mcol_to_remove\u001b[0m\u001b[0;34m,\u001b[0m \u001b[0maxis\u001b[0m\u001b[0;34m=\u001b[0m\u001b[0;36m0\u001b[0m\u001b[0;34m)\u001b[0m\u001b[0;34m\u001b[0m\u001b[0;34m\u001b[0m\u001b[0m\n",
      "\u001b[0;32m<__array_function__ internals>\u001b[0m in \u001b[0;36mdelete\u001b[0;34m(*args, **kwargs)\u001b[0m\n",
      "\u001b[0;32m~/miniconda3/envs/rec_sys/lib/python3.7/site-packages/numpy/lib/function_base.py\u001b[0m in \u001b[0;36mdelete\u001b[0;34m(arr, obj, axis)\u001b[0m\n\u001b[1;32m   4302\u001b[0m             \u001b[0;32mreturn\u001b[0m \u001b[0marr\u001b[0m\u001b[0;34m.\u001b[0m\u001b[0mcopy\u001b[0m\u001b[0;34m(\u001b[0m\u001b[0morder\u001b[0m\u001b[0;34m=\u001b[0m\u001b[0marrorder\u001b[0m\u001b[0;34m)\u001b[0m\u001b[0;34m\u001b[0m\u001b[0;34m\u001b[0m\u001b[0m\n\u001b[1;32m   4303\u001b[0m \u001b[0;34m\u001b[0m\u001b[0m\n\u001b[0;32m-> 4304\u001b[0;31m     \u001b[0maxis\u001b[0m \u001b[0;34m=\u001b[0m \u001b[0mnormalize_axis_index\u001b[0m\u001b[0;34m(\u001b[0m\u001b[0maxis\u001b[0m\u001b[0;34m,\u001b[0m \u001b[0mndim\u001b[0m\u001b[0;34m)\u001b[0m\u001b[0;34m\u001b[0m\u001b[0;34m\u001b[0m\u001b[0m\n\u001b[0m\u001b[1;32m   4305\u001b[0m \u001b[0;34m\u001b[0m\u001b[0m\n\u001b[1;32m   4306\u001b[0m     \u001b[0mslobj\u001b[0m \u001b[0;34m=\u001b[0m \u001b[0;34m[\u001b[0m\u001b[0mslice\u001b[0m\u001b[0;34m(\u001b[0m\u001b[0;32mNone\u001b[0m\u001b[0;34m)\u001b[0m\u001b[0;34m]\u001b[0m\u001b[0;34m*\u001b[0m\u001b[0mndim\u001b[0m\u001b[0;34m\u001b[0m\u001b[0;34m\u001b[0m\u001b[0m\n",
      "\u001b[0;31mAxisError\u001b[0m: axis 1 is out of bounds for array of dimension 1"
     ]
    }
   ],
   "source": [
    "s = np.array([[1,np.nan,np.nan], [np.nan,np.nan,np.nan], [np.nan,np.nan,np.nan], [2,np.nan,np.nan]])\n",
    "u = np.array(['u1', 'u2', 'u3', 'u4'])\n",
    "i = np.array(['i1', 'i2', 'i3'])\n",
    "\n",
    "print(s,u,i)\n",
    "\n",
    "def get_products_with_no_ratings(s):\n",
    "    col_indices = list()\n",
    "    for i in range(s.shape[1]):\n",
    "        if np.count_nonzero(~np.isnan(s[:,i]))==0:\n",
    "            col_indices.append(i)\n",
    "    print(col_indices)\n",
    "    return col_indices\n",
    "\n",
    "col_to_remove = get_products_with_no_ratings(s)\n",
    "\n",
    "s = np.delete(s, col_to_remove, axis=1)\n",
    "# u = np.delete(u, get_products_with_no_ratings(s), axis=0)\n",
    "i = np.delete(i, col_to_remove, axis=0)\n",
    "\n",
    "print(s,u,i)"
   ]
  },
  {
   "cell_type": "code",
   "execution_count": 67,
   "metadata": {},
   "outputs": [
    {
     "data": {
      "text/plain": [
       "array(['A0333047WGK24IZKLDP2', 'A0534350D18UHJKPKZ1W',\n",
       "       'A095896256EBDK3E42GW', ..., 'AZZM0EGX7OIJH', 'AZZP6XXCKUBK1',\n",
       "       'AZZVFTH1QONVD'], dtype=object)"
      ]
     },
     "execution_count": 67,
     "metadata": {},
     "output_type": "execute_result"
    }
   ],
   "source": [
    "items\n"
   ]
  },
  {
   "cell_type": "markdown",
   "metadata": {},
   "source": []
  }
 ],
 "metadata": {
  "kernelspec": {
   "display_name": "Python 3",
   "language": "python",
   "name": "python3"
  },
  "language_info": {
   "codemirror_mode": {
    "name": "ipython",
    "version": 3
   },
   "file_extension": ".py",
   "mimetype": "text/x-python",
   "name": "python",
   "nbconvert_exporter": "python",
   "pygments_lexer": "ipython3",
   "version": "3.7.6"
  }
 },
 "nbformat": 4,
 "nbformat_minor": 4
}
